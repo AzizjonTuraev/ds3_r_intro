{
 "cells": [
  {
   "cell_type": "raw",
   "id": "adff79df",
   "metadata": {},
   "source": [
    "---\n",
    "title: \"Untitled\"\n",
    "output: html_document\n",
    "---"
   ]
  },
  {
   "cell_type": "markdown",
   "id": "929d7eb2",
   "metadata": {},
   "source": [
    "\n",
    "## R Packages\n",
    "\n",
    "Packages are at the heart of R: \n",
    "\n",
    "* R packages are basically a collection of functions that you load into your working environment.\n",
    "\n",
    "* They contain code that other R users have prepared for the community.\n"
   ]
  },
  {
   "cell_type": "markdown",
   "id": "a4f95076",
   "metadata": {},
   "source": [
    "* It's good to know your packages, they can really make your life easier.\n",
    "\n",
    "* I suggest keeping track of package developments either on Twitter via #rstats\n",
    "\n",
    "* Or [postsyoumighthavemissed.com](https://postsyoumighthavemissed.com/posts/)\n"
   ]
  },
  {
   "cell_type": "markdown",
   "id": "148db2bf",
   "metadata": {},
   "source": [
    "## R Packages\n",
    "\n",
    "You can install packages in R like this using the `install.packages` function:"
   ]
  },
  {
   "cell_type": "code",
   "execution_count": null,
   "id": "a02968dd",
   "metadata": {
    "eval": false
   },
   "outputs": [],
   "source": [
    "install.packages(\"janitor\")"
   ]
  },
  {
   "cell_type": "markdown",
   "id": "0074f7f4",
   "metadata": {},
   "source": [
    "However, installing is not enough. You also need to load the package via `library`."
   ]
  },
  {
   "cell_type": "code",
   "execution_count": null,
   "id": "29e21dd6",
   "metadata": {},
   "outputs": [],
   "source": [
    "library(janitor)"
   ]
  },
  {
   "cell_type": "markdown",
   "id": "129c4980",
   "metadata": {},
   "source": [
    "Think of `install.packages` as buying a set of tools (for free!) and `library` as pulling out the tools each time you want to work with them."
   ]
  },
  {
   "cell_type": "markdown",
   "id": "1d333ef3",
   "metadata": {},
   "source": [
    "class: center, middle, inverse\n",
    "\n",
    "## Break?\n"
   ]
  },
  {
   "cell_type": "markdown",
   "id": "d1d85ef3",
   "metadata": {},
   "source": [
    "class: center, middle, inverse\n",
    "\n",
    "![](https://predictivehacks.com/wp-content/uploads/2020/11/tidyverse-default.png)\n"
   ]
  },
  {
   "cell_type": "markdown",
   "id": "4a6d68a3",
   "metadata": {},
   "source": [
    "## What is the `tidyverse`?\n",
    "\n",
    "The tidyverse describes itself:\n",
    "\n",
    "> The tidyverse is an opinionated **collection of R packages** designed for data science. All packages share an underlying design philosophy, grammar, and data structures."
   ]
  },
  {
   "cell_type": "markdown",
   "id": "0280c68c",
   "metadata": {},
   "source": [
    "<center>\n",
    "<img src=\"https://rstudio-education.github.io/tidyverse-cookbook/images/data-science-workflow.png\" style=\"width: 60%\" />\n",
    "</center>\n"
   ]
  },
  {
   "cell_type": "markdown",
   "id": "e6c13239",
   "metadata": {},
   "source": [
    "## Core principle: tidy data\n",
    "\n",
    "* Each variable is in its own column\n",
    "* Each observation / case is on its own row\n",
    "* Each value is in a cell\n",
    "\n",
    "We have already seen tidy data:\n",
    "\n",
    "| Animal | Maximum Lifespan | Animal/Human Years Ratio  |\n",
    "|  |  |  | \n",
    "| Domestic dog | 24.0 | 5.10 |\n",
    "| Domestic cat | 30.0 | 4.08 |\n",
    "| American alligator | 77.0 | 1.59 | \n",
    "| Golden hamster | 3.9 | 31.41 |\n",
    "| King penguin | 26.0 |  4.71 |\n"
   ]
  },
  {
   "cell_type": "markdown",
   "id": "cfabc387",
   "metadata": {},
   "source": [
    "## Untidy data I\n",
    "\n",
    ".leftcol[\n",
    "| Animal | Type | Value  |\n",
    "|  |  |  | \n",
    "| Domestic dog | lifespan | 24.0 |\n",
    "| Domestic dog | ratio | 5.10 |\n",
    "| Domestic cat | lifespan | 30.0 |\n",
    "| Domestic cat | ratio | 4.08 |\n",
    "| American alligator | lifespan | 77.0 | \n",
    "| American alligator | ratio | 1.59 |\n",
    "| Golden hamster | lifespan | 3.9 |\n",
    "| Golden hamster | ratio | 31.41 |\n",
    "| King penguin | lifespan |  26.0 |\n",
    "| King penguin | ratio |  4.71 |\n",
    "]\n",
    "\n",
    ".rightcol[\n",
    "\n",
    "<br>\n",
    "\n",
    "<br>\n",
    "\n",
    "The data on the right has multiple rows with the same observation (animal).\n",
    "\n",
    "= not tidy\n",
    "\n",
    "]\n"
   ]
  },
  {
   "cell_type": "markdown",
   "id": "b6bd073b",
   "metadata": {},
   "source": [
    "## Untidy data II\n",
    "\n",
    "| Animal | Lifespan/Ratio  |\n",
    "|  |  | \n",
    "| Domestic dog | 24.0 / 5.10 |\n",
    "| Domestic cat | 30.0 / 4.08 |\n",
    "| American alligator | 77.0 / 1.59 | \n",
    "| Golden hamster | 3.9 / 31.41 |\n",
    "| King penguin | 26.0 /  4.71 |\n",
    "\n",
    "The data above has multiple variables per column.\n",
    "\n",
    "= not tidy\n"
   ]
  },
  {
   "cell_type": "markdown",
   "id": "614ec48f",
   "metadata": {},
   "source": [
    "## Core principle: tidy data\n",
    "\n",
    "<center>\n",
    "<img src=\"https://www.openscapes.org/img/blog/tidydata/tidydata_2.jpg\" style=\"width: 80%\" />\n",
    "</center>\n",
    "\n",
    ".fifty[Artist: [Allison Horst](https://github.com/allisonhorst)]"
   ]
  },
  {
   "cell_type": "markdown",
   "id": "82e06ea5",
   "metadata": {},
   "source": [
    "## Core principle: tidy data\n",
    "\n",
    "Tidy data has two decisive advantages:\n",
    "\n",
    "* Consistently prepared data is easier to read, process, load and save.\n",
    "\n",
    "* Many procedures (or the associated functions) in R require this type of data.\n",
    "\n",
    "<center>\n",
    "<img src=\"https://www.openscapes.org/img/blog/tidydata/tidydata_4.jpg\" style=\"width: 40%\" />\n",
    "</center>\n",
    "\n",
    ".fifty[Artist: [Allison Horst](https://github.com/allisonhorst)]\n"
   ]
  },
  {
   "cell_type": "markdown",
   "id": "2d7c1502",
   "metadata": {},
   "source": [
    "## Installing and loading the tidyverse\n",
    "\n",
    "First we install the packages of the tidyverse like this:"
   ]
  },
  {
   "cell_type": "code",
   "execution_count": null,
   "id": "44a7fb9b",
   "metadata": {
    "eval": false
   },
   "outputs": [],
   "source": [
    "install.packages(\"tidyverse\")"
   ]
  },
  {
   "cell_type": "markdown",
   "id": "dd17495f",
   "metadata": {},
   "source": [
    "Then we load them:"
   ]
  },
  {
   "cell_type": "code",
   "execution_count": null,
   "id": "6174c050",
   "metadata": {
    "lines_to_next_cell": 0
   },
   "outputs": [],
   "source": [
    "library(tidyverse)"
   ]
  },
  {
   "cell_type": "markdown",
   "id": "426df8d9",
   "metadata": {},
   "source": [
    "\n",
    "\n"
   ]
  },
  {
   "cell_type": "markdown",
   "id": "7e62bc39",
   "metadata": {},
   "source": [
    "## A new dataset appears..\n",
    "\n",
    "Before we dive into some functions of the tidyverse, we are going to work with a new data set and clean it a bit.\n",
    "\n",
    "No worries, we will stay within the animal kingdom but we need a dataset that is a little more complex than what we have seen already.\n",
    "\n"
   ]
  },
  {
   "cell_type": "markdown",
   "id": "a4692bb3",
   "metadata": {},
   "source": [
    "## A new dataset appears..\n",
    "\n",
    "Before we dive into some functions of the tidyverse, we are going to work with a new data set and clean it a bit.\n",
    "\n",
    "Meet the Palmer penguins! Data were collected and made available by [Dr. Kristen Gorman](https://www.uaf.edu/cfos/people/faculty/detail/kristen-gorman.php) and the [Palmer Station, Antarctica LTER](https://pal.lternet.edu/).\n"
   ]
  },
  {
   "cell_type": "markdown",
   "id": "adc2f869",
   "metadata": {},
   "source": [
    ".leftcol[\n",
    "<center>\n",
    "<img src=\"https://github.com/allisonhorst/palmerpenguins/raw/master/man/figures/lter_penguins.png\" style=\"width: 80%\" />\n",
    "</center>\n",
    "]\n",
    "\n",
    ".rightcol[\n",
    "<center>\n",
    "<img src=\"https://github.com/allisonhorst/palmerpenguins/raw/master/man/figures/culmen_depth.png\" style=\"width: 80%\" />\n",
    "</center>\n",
    ".right[\n",
    ".fifty[Artist: [Allison Horst](https://github.com/allisonhorst)]]\n",
    "]\n",
    "\n",
    "\n"
   ]
  },
  {
   "cell_type": "markdown",
   "id": "99261aed",
   "metadata": {},
   "source": [
    "## Palmer Penguins\n",
    "\n",
    "We could install the R package `palmerpenguins` and then access the data. \n",
    "\n",
    "However, we are going to use a different method: directly load a .csv file (comma-separated values) into R from the internet.\n",
    "\n",
    "We can use the `readr` package which provides many convenient functions to load data into R. Here we need `read_csv`:"
   ]
  },
  {
   "cell_type": "code",
   "execution_count": null,
   "id": "99e21f5f",
   "metadata": {
    "lines_to_next_cell": 0
   },
   "outputs": [],
   "source": [
    "penguins_raw <- read_csv(\"https://raw.githubusercontent.com/allisonhorst/palmerpenguins/master/inst/extdata/penguins_raw.csv\")\n"
   ]
  },
  {
   "cell_type": "markdown",
   "id": "d3541106",
   "metadata": {},
   "source": [
    "\n"
   ]
  },
  {
   "cell_type": "markdown",
   "id": "e4e9313e",
   "metadata": {},
   "source": [
    "## Palmer Penguins"
   ]
  },
  {
   "cell_type": "code",
   "execution_count": null,
   "id": "6a2f35d3",
   "metadata": {
    "lines_to_next_cell": 0
   },
   "outputs": [],
   "source": [
    "penguins_raw"
   ]
  },
  {
   "cell_type": "markdown",
   "id": "4f61e182",
   "metadata": {},
   "source": [
    "\n"
   ]
  },
  {
   "cell_type": "markdown",
   "id": "40442731",
   "metadata": {},
   "source": [
    "## Palmer Penguins\n",
    "\n",
    "We can also take a look at data set using the `glimpse` function from `dplyr`."
   ]
  },
  {
   "cell_type": "code",
   "execution_count": null,
   "id": "29b1022b",
   "metadata": {
    "lines_to_next_cell": 0
   },
   "outputs": [],
   "source": [
    "glimpse(penguins_raw)"
   ]
  },
  {
   "cell_type": "markdown",
   "id": "c9990144",
   "metadata": {},
   "source": []
  },
  {
   "cell_type": "markdown",
   "id": "be9aa70a",
   "metadata": {},
   "source": [
    "class: center, middle, inverse\n",
    "\n",
    "## initial data cleaning\n",
    "\n",
    "### using `janitor`"
   ]
  },
  {
   "cell_type": "markdown",
   "id": "c5d234c2",
   "metadata": {},
   "source": [
    "<center>\n",
    "<img src=\"https://github.com/sfirke/janitor/raw/main/man/figures/logo_small.png\" style=\"width: 20%\" />\n",
    "</center>\n",
    "\n"
   ]
  },
  {
   "cell_type": "markdown",
   "id": "5c0785ac",
   "metadata": {},
   "source": [
    "## cleaning with `janitor`\n",
    "\n",
    "`janitor` is not offically part of the tidyverse package compilation but in my view it is incredibly important to know.\n",
    "\n",
    "Provides some convenient functions for basic cleaning of the data.\n",
    "\n",
    "Just like any tidverse-style package it fullfills the following criteria for its functions:\n",
    "\n",
    "> The data is always the first argument.\n",
    "\n",
    "This helps us to match by position.\n"
   ]
  },
  {
   "cell_type": "markdown",
   "id": "d90a3e09",
   "metadata": {},
   "source": [
    "## cleaning with `janitor`\n",
    "\n",
    "One annoyance with the `penguins_raw` data is that it has spaces in the variable names. Urgh! \n",
    "\n",
    "R has to put quotes around the variable names that have spaces:"
   ]
  },
  {
   "cell_type": "code",
   "execution_count": null,
   "id": "cd228f26",
   "metadata": {
    "eval": false
   },
   "outputs": [],
   "source": [
    "penguins_raw$`Delta 15 N (o/oo)`\n",
    "penguins_raw$`Flipper Length (mm)`\n"
   ]
  },
  {
   "cell_type": "markdown",
   "id": "440b2abc",
   "metadata": {},
   "source": [
    "`janitor` can help with that: \n",
    "\n",
    "using a function called `clean_names()`\n",
    "\n"
   ]
  },
  {
   "cell_type": "markdown",
   "id": "fe309f30",
   "metadata": {},
   "source": [
    "## cleaning with `janitor`\n",
    "\n",
    "`clean_names()` just magically turns all our messy column names into readable lower-case snake case:"
   ]
  },
  {
   "cell_type": "code",
   "execution_count": null,
   "id": "3dc22d56",
   "metadata": {},
   "outputs": [],
   "source": [
    "library(janitor)\n",
    "\n",
    "penguins_clean <- clean_names(penguins_raw) \n"
   ]
  },
  {
   "cell_type": "markdown",
   "id": "cdd997ed",
   "metadata": {},
   "source": [
    "That is how the variables look like now:"
   ]
  },
  {
   "cell_type": "code",
   "execution_count": null,
   "id": "33f63aad",
   "metadata": {
    "eval": false,
    "lines_to_next_cell": 0
   },
   "outputs": [],
   "source": [
    "penguins_clean$delta_15_n_o_oo\n",
    "penguins_clean$flipper_length_mm"
   ]
  },
  {
   "cell_type": "markdown",
   "id": "c25a082c",
   "metadata": {},
   "source": [
    "\n"
   ]
  },
  {
   "cell_type": "markdown",
   "id": "962c4010",
   "metadata": {},
   "source": [
    "## cleaning with `janitor`\n"
   ]
  },
  {
   "cell_type": "code",
   "execution_count": null,
   "id": "b12ef6dc",
   "metadata": {
    "lines_to_next_cell": 0
   },
   "outputs": [],
   "source": [
    "glimpse(penguins_clean)\n"
   ]
  },
  {
   "cell_type": "markdown",
   "id": "6109e7f0",
   "metadata": {},
   "source": [
    "\n"
   ]
  },
  {
   "cell_type": "markdown",
   "id": "4702b540",
   "metadata": {},
   "source": [
    "## cleaning with `janitor`\n",
    "\n",
    "Now we have another problem. Not all variables in the `penguins_clean` data set are that useful. \n",
    "\n",
    "Some of them are the same across all observations. We don't need those variables, like `region`."
   ]
  },
  {
   "cell_type": "code",
   "execution_count": null,
   "id": "add7e8c3",
   "metadata": {},
   "outputs": [],
   "source": [
    "table(penguins_clean$region)"
   ]
  },
  {
   "cell_type": "markdown",
   "id": "06ea7832",
   "metadata": {},
   "source": [
    "We can use the base R function `table` to quickly get some tabulations of our variable.\n"
   ]
  },
  {
   "cell_type": "markdown",
   "id": "761fb442",
   "metadata": {},
   "source": [
    "## cleaning with `janitor`\n",
    "\n",
    "Here to help get rid of these *constant* columns is the function `remove_constant()`."
   ]
  },
  {
   "cell_type": "code",
   "execution_count": null,
   "id": "fe24a98c",
   "metadata": {
    "message": true
   },
   "outputs": [],
   "source": [
    "penguins_clean <- remove_constant(penguins_clean, quiet = F)"
   ]
  },
  {
   "cell_type": "code",
   "execution_count": null,
   "id": "d9726753",
   "metadata": {
    "echo": false,
    "lines_to_next_cell": 2
   },
   "outputs": [],
   "source": [
    "message(\"Removing 2 constant columns of 17 columns total (Removed: region, stage).\")"
   ]
  },
  {
   "cell_type": "markdown",
   "id": "ad306dbd",
   "metadata": {},
   "source": [
    "When we set `quiet = F` we even get some input as to what exactly was removed. Neat!"
   ]
  },
  {
   "cell_type": "markdown",
   "id": "f3803c89",
   "metadata": {},
   "source": [
    "Another useful function in `janitor` is `remove_empty()` which removes all rows or columns that just consist of missing values (i.e. `NA`)\n",
    "\n",
    "\n"
   ]
  },
  {
   "cell_type": "markdown",
   "id": "e531ec83",
   "metadata": {},
   "source": [
    "class: center, middle, inverse\n",
    "\n",
    "## Data manipulation using `dplyr`\n",
    "\n",
    "<center>\n",
    "<img src=\"https://github.com/allisonhorst/stats-illustrations/blob/master/rstats-artwork/dplyr_wrangling.png?raw=true\" style=\"width: 62%\" />\n",
    "</center>"
   ]
  },
  {
   "cell_type": "markdown",
   "id": "aecfec0b",
   "metadata": {},
   "source": [
    ".fifty[Artist: [Allison Horst](https://github.com/allisonhorst)]\n"
   ]
  },
  {
   "cell_type": "markdown",
   "id": "a4af7eef",
   "metadata": {},
   "source": [
    "class: center, middle, inverse\n",
    "\n",
    "## `select()`\n",
    "\n",
    "helps you select variables\n",
    "\n",
    "\n",
    "\n"
   ]
  },
  {
   "cell_type": "markdown",
   "id": "128d19e3",
   "metadata": {},
   "source": [
    "## `select()`\n",
    "\n",
    "![](https://favstats.shinyapps.io/r_intro/_w_bfa1a45e/images/select.png)\n",
    "\n",
    "`select()` is part of the dplyr package and helps you select variables\n",
    "\n",
    "Remember: with tidyverse-style functions, **data is always the first argument**.\n"
   ]
  },
  {
   "cell_type": "markdown",
   "id": "b08b2309",
   "metadata": {},
   "source": [
    "## `select()`\n",
    "\n",
    "![](https://favstats.shinyapps.io/r_intro/_w_bfa1a45e/images/select.png)\n",
    "\n",
    "Here we only keep `individual_id`, `sex` and `species`."
   ]
  },
  {
   "cell_type": "code",
   "execution_count": null,
   "id": "1815048e",
   "metadata": {
    "lines_to_next_cell": 0
   },
   "outputs": [],
   "source": [
    "select(penguins_clean, individual_id, sex, species)"
   ]
  },
  {
   "cell_type": "markdown",
   "id": "9a2410f0",
   "metadata": {},
   "source": [
    "\n",
    "\n"
   ]
  },
  {
   "cell_type": "markdown",
   "id": "0732a27f",
   "metadata": {},
   "source": [
    "class: center, middle, inverse\n",
    "\n",
    "## `filter()`\n",
    "\n",
    "helps you filter rows\n",
    "\n"
   ]
  },
  {
   "cell_type": "markdown",
   "id": "324f245f",
   "metadata": {},
   "source": [
    "## `filter()`\n",
    "\n",
    "helps you filter rows\n",
    "\n",
    "![](https://favstats.shinyapps.io/r_intro/_w_bfa1a45e/images/filter.png)\n",
    "\n",
    "Here we only keep penguins from the Island `Dream`."
   ]
  },
  {
   "cell_type": "code",
   "execution_count": null,
   "id": "bcf93f38",
   "metadata": {
    "lines_to_next_cell": 0
   },
   "outputs": [],
   "source": [
    "filter(penguins_clean, island == \"Dream\")"
   ]
  },
  {
   "cell_type": "markdown",
   "id": "8fea98ad",
   "metadata": {},
   "source": []
  },
  {
   "cell_type": "markdown",
   "id": "68ffc22a",
   "metadata": {},
   "source": [
    "## `filter()`\n",
    "\n",
    "Here the **`%in%`** operator can come in handy again if we want to filter more than one island:"
   ]
  },
  {
   "cell_type": "code",
   "execution_count": null,
   "id": "3109c068",
   "metadata": {
    "lines_to_next_cell": 0
   },
   "outputs": [],
   "source": [
    "islands_to_keep <- c(\"Dream\", \"Biscoe\")\n",
    "\n",
    "filter(penguins_clean, island %in% islands_to_keep)"
   ]
  },
  {
   "cell_type": "markdown",
   "id": "d165ab3c",
   "metadata": {},
   "source": [
    "\n"
   ]
  },
  {
   "cell_type": "markdown",
   "id": "c5369844",
   "metadata": {},
   "source": [
    "class: center, middle, inverse\n",
    "\n",
    "## `mutate()`\n",
    "\n",
    "helps you create variables\n",
    "\n"
   ]
  },
  {
   "cell_type": "markdown",
   "id": "d26a5104",
   "metadata": {},
   "source": [
    "## `mutate()`\n",
    "\n",
    "![](https://favstats.shinyapps.io/r_intro/_w_dfe6b732/images/mutate.png)\n",
    "\n",
    "`mutate` will take a statement like this:\n",
    "\n",
    "`variable_name = some_calculation`\n",
    "\n",
    "and attach `variable_name` at the *end of the dataset*.\n"
   ]
  },
  {
   "cell_type": "markdown",
   "id": "286d1508",
   "metadata": {},
   "source": [
    "## `mutate()`\n",
    "\n",
    "![](https://favstats.shinyapps.io/r_intro/_w_dfe6b732/images/mutate.png)\n",
    "\n",
    "Let's say we want to calculate penguin bodymass in kg rather than gram."
   ]
  },
  {
   "cell_type": "code",
   "execution_count": null,
   "id": "9efc3c72",
   "metadata": {},
   "outputs": [],
   "source": [
    "pg_new <- mutate(penguins_clean, bodymass_kg = body_mass_g/1000)"
   ]
  },
  {
   "cell_type": "code",
   "execution_count": null,
   "id": "27637fd6",
   "metadata": {
    "lines_to_next_cell": 0
   },
   "outputs": [],
   "source": [
    "select(pg_new, bodymass_kg, body_mass_g)"
   ]
  },
  {
   "cell_type": "markdown",
   "id": "2f2667e0",
   "metadata": {},
   "source": []
  },
  {
   "cell_type": "markdown",
   "id": "6a3f49a8",
   "metadata": {},
   "source": [
    "class: center, middle, inverse\n",
    "\n",
    "## `rename()`\n",
    "\n",
    "helps you rename variables\n",
    "\n"
   ]
  },
  {
   "cell_type": "markdown",
   "id": "11b93dfe",
   "metadata": {},
   "source": [
    "## `rename()`\n",
    "\n",
    "Just changes the variable name but leaves all else intact:"
   ]
  },
  {
   "cell_type": "code",
   "execution_count": null,
   "id": "301b8da3",
   "metadata": {
    "lines_to_next_cell": 0
   },
   "outputs": [],
   "source": [
    "rename(penguins_clean, sample = sample_number)"
   ]
  },
  {
   "cell_type": "markdown",
   "id": "b6b1fee1",
   "metadata": {},
   "source": [
    "\n"
   ]
  },
  {
   "cell_type": "markdown",
   "id": "f3f21f9c",
   "metadata": {},
   "source": [
    "class: center, middle, inverse\n",
    "\n",
    "## `group_by()` and `summarize()`\n",
    "\n",
    "when you want to aggregate your data (by groups)\n",
    "\n",
    "\n"
   ]
  },
  {
   "cell_type": "markdown",
   "id": "fbc0e17a",
   "metadata": {},
   "source": [
    "## `group_by()` and `summarize()`\n",
    "\n",
    "Sometimes we want to calculate group statistics.\n",
    "\n",
    "In other languages this is often a pain. With `dplyr` this is fairly easy **and** readable.\n",
    "\n",
    "<img src=\"https://learn.r-journalism.com/wrangling/dplyr/images/groupby.png\" style=\"width: 80%\" />\n",
    "\n",
    "\n"
   ]
  },
  {
   "cell_type": "markdown",
   "id": "303f03ee",
   "metadata": {},
   "source": [
    "## `group_by()` and `summarize()`"
   ]
  },
  {
   "cell_type": "markdown",
   "id": "f34d9209",
   "metadata": {},
   "source": [
    "First we group `penguins_clean` by `sex`."
   ]
  },
  {
   "cell_type": "code",
   "execution_count": null,
   "id": "168a902e",
   "metadata": {},
   "outputs": [],
   "source": [
    "grouped_by_sex <- group_by(penguins_clean, sex)"
   ]
  },
  {
   "cell_type": "markdown",
   "id": "d406a8f4",
   "metadata": {},
   "source": [
    "`summarize` works in a similar way to `mutate`:\n",
    "\n",
    "`variable_name = some_calculation`"
   ]
  },
  {
   "cell_type": "code",
   "execution_count": null,
   "id": "1d5d5e5d",
   "metadata": {
    "lines_to_next_cell": 0
   },
   "outputs": [],
   "source": [
    "summarise(grouped_by_sex, avg_culmen_length_mm = mean(culmen_length_mm, na.rm = T))"
   ]
  },
  {
   "cell_type": "markdown",
   "id": "b2184729",
   "metadata": {},
   "source": [
    "\n",
    "\n",
    "\n"
   ]
  },
  {
   "cell_type": "markdown",
   "id": "c0ef238b",
   "metadata": {},
   "source": [
    "class: center, middle, inverse\n",
    "\n",
    "# **`%>%`**\n",
    "\n",
    "## The pipe operator\n",
    "\n",
    "<center>\n",
    "<img src=\"https://rpodcast.github.io/officer-advrmarkdown/img/magrittr.png\" style=\"width: 62%\" />\n",
    "</center>\n",
    "\n"
   ]
  },
  {
   "cell_type": "markdown",
   "id": "b2d1ef62",
   "metadata": {},
   "source": [
    "## The `%>%` operator\n",
    "\n",
    "The point of the pipe is to help you write code in a way that is easier to read and understand. \n",
    "\n",
    "Let's consider an example with the data manipulation we have done so far:"
   ]
  },
  {
   "cell_type": "code",
   "execution_count": null,
   "id": "b956faa0",
   "metadata": {
    "lines_to_next_cell": 0
   },
   "outputs": [],
   "source": [
    "## first I select variables\n",
    "pg <- select(penguins_clean, individual_id, island, body_mass_g)\n",
    "\n",
    "## then I filter to only Dream island\n",
    "pg <- filter(pg, island == \"Dream\")\n",
    "\n",
    "## then I convert body_mass_g to kg\n",
    "pg <- mutate(pg, bodymass_kg = body_mass_g/1000)\n",
    "\n",
    "## rename individual id to simply id\n",
    "pg <- rename(pg, id = individual_id)\n"
   ]
  },
  {
   "cell_type": "markdown",
   "id": "70cb8845",
   "metadata": {},
   "source": [
    "\n"
   ]
  },
  {
   "cell_type": "markdown",
   "id": "38b886b9",
   "metadata": {},
   "source": [
    "## The `%>%` operator\n",
    "\n",
    "Now this works but the problem is: we have to write a lot of code that repeats itself!"
   ]
  },
  {
   "cell_type": "code",
   "execution_count": null,
   "id": "59e751a2",
   "metadata": {
    "lines_to_next_cell": 0
   },
   "outputs": [],
   "source": [
    "pg"
   ]
  },
  {
   "cell_type": "markdown",
   "id": "10e2cd3c",
   "metadata": {},
   "source": []
  },
  {
   "cell_type": "markdown",
   "id": "13971caf",
   "metadata": {},
   "source": [
    "## The `%>%` operator\n",
    "\n",
    "Another alternative is to *nest all the functions*:"
   ]
  },
  {
   "cell_type": "code",
   "execution_count": null,
   "id": "f57c9e8f",
   "metadata": {
    "lines_to_next_cell": 0
   },
   "outputs": [],
   "source": [
    "rename(mutate(filter(select(penguins_clean, individual_id, island, body_mass_g), island == \"Dream\"), bodymass_kg = body_mass_g/1000), id = individual_id)\n"
   ]
  },
  {
   "cell_type": "markdown",
   "id": "8b9c3d95",
   "metadata": {},
   "source": [
    "\n"
   ]
  },
  {
   "cell_type": "markdown",
   "id": "942bcc61",
   "metadata": {},
   "source": [
    "## The `%>%` operator\n",
    "\n",
    "*The piping style*: \n",
    "\n",
    "Read from top to bottom and from left to right and the `%>%` as \"and then\"."
   ]
  },
  {
   "cell_type": "code",
   "execution_count": null,
   "id": "caa8701c",
   "metadata": {
    "lines_to_next_cell": 0
   },
   "outputs": [],
   "source": [
    "penguins_clean %>% \n",
    "  select(individual_id, island, body_mass_g) %>% \n",
    "  filter(island == \"Dream\") %>% \n",
    "  mutate(bodymass_kg = body_mass_g/1000) %>% \n",
    "  rename(id = individual_id)\n"
   ]
  },
  {
   "cell_type": "markdown",
   "id": "ac54d372",
   "metadata": {},
   "source": []
  },
  {
   "cell_type": "markdown",
   "id": "bfa281d4",
   "metadata": {},
   "source": [
    "class: center, middle, inverse\n",
    "\n",
    "# Exercises\n",
    "\n",
    "### It's time to type some R code\n",
    "\n"
   ]
  },
  {
   "cell_type": "markdown",
   "id": "964ac311",
   "metadata": {},
   "source": [
    "<center>\n",
    "<img src=\"https://media1.tenor.com/images/72bf7922ac0b07b2f7f8f630e4ae01d2/tenor.gif?itemid=11364811\" style=\"width: 50%\" />\n",
    "</center>\n",
    "\n",
    "Google Colab: [tinyurl.com/hackr4321](https://tinyurl.com/hackr4321)\n",
    "\n"
   ]
  }
 ],
 "metadata": {
  "jupytext": {
   "cell_metadata_filter": "echo,message,eval,-all",
   "main_language": "R",
   "notebook_metadata_filter": "-all"
  }
 },
 "nbformat": 4,
 "nbformat_minor": 5
}
